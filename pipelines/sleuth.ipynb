{
 "cells": [
  {
   "cell_type": "markdown",
   "metadata": {},
   "source": [
    "# Analyse kallisto output using [sleuth](https://pachterlab.github.io/sleuth/about)\n",
    "\n",
    "## Introduction\n",
    "\n",
    "This analysis is based on [walkthroughs](https://pachterlab.github.io/sleuth/walkthroughs) from the pachter lab. We will examine in detail how to analyze the RNA-Seq dataset in order to obtain both gene-level and transcript-level differential expression results that are consistent with each other.\n",
    "\n",
    "## Preliminaries\n",
    "\n",
    "Requirements:\n",
    "\n",
    "* `cowplot` for making prettier plots and plots with grids. Available in CRAN: `install.packages('cowplot')`.\n",
    "* `gridExtra` Available in CRAN: `install.packages('gridExtra')`."
   ]
  },
  {
   "cell_type": "code",
   "execution_count": 1,
   "metadata": {},
   "outputs": [],
   "source": [
    "#load the requisite packages:\n",
    "suppressMessages({\n",
    "  library('cowplot')\n",
    "  library('sleuth')\n",
    "})"
   ]
  },
  {
   "cell_type": "code",
   "execution_count": 2,
   "metadata": {},
   "outputs": [],
   "source": [
    "#set the path to quant file\n",
    "QUANTDIR <- file.path('quant', 'kallisto_output')"
   ]
  },
  {
   "cell_type": "markdown",
   "metadata": {},
   "source": [
    "## Parsing metadata\n",
    "A sleuth analysis is dependent on a metadata file, which describes the experimental design, the sample names, conditions and covariates. The metadata file is external to sleuth, and must be prepared prior to analysis. A metadata file should have been downloaded along with the kallisto quantifications. The first step in a sleuth analysis is loading of the metadata file. You might need the path in read_table below to where you have downloaded the kallisto dataset, so that the path directs to the SraRunTable.txt. We then select the relevant columns of the metadata."
   ]
  },
  {
   "cell_type": "code",
   "execution_count": 3,
   "metadata": {},
   "outputs": [
    {
     "data": {
      "text/html": [
       "<table>\n",
       "<caption>A data.frame: 12 × 2</caption>\n",
       "<thead>\n",
       "\t<tr><th scope=col>Run</th><th scope=col>treatment</th></tr>\n",
       "\t<tr><th scope=col>&lt;chr&gt;</th><th scope=col>&lt;chr&gt;</th></tr>\n",
       "</thead>\n",
       "<tbody>\n",
       "\t<tr><td>SRR8914928</td><td>Unstimulated                    </td></tr>\n",
       "\t<tr><td>SRR8914929</td><td>Unstimulated                    </td></tr>\n",
       "\t<tr><td>SRR8914930</td><td>Unstimulated                    </td></tr>\n",
       "\t<tr><td>SRR8914931</td><td>T(anti-CD3/CD28 beads only)     </td></tr>\n",
       "\t<tr><td>SRR8914932</td><td>T(anti-CD3/CD28 beads only)     </td></tr>\n",
       "\t<tr><td>SRR8914933</td><td>T(anti-CD3/CD28 beads only)     </td></tr>\n",
       "\t<tr><td>SRR8914934</td><td>C(cytokines, IL-12/-15/-18/TL1A)</td></tr>\n",
       "\t<tr><td>SRR8914935</td><td>C(cytokines, IL-12/-15/-18/TL1A)</td></tr>\n",
       "\t<tr><td>SRR8914936</td><td>C(cytokines, IL-12/-15/-18/TL1A)</td></tr>\n",
       "\t<tr><td>SRR8914937</td><td>TC(beads+cytokines)             </td></tr>\n",
       "\t<tr><td>SRR8914938</td><td>TC(beads+cytokines)             </td></tr>\n",
       "\t<tr><td>SRR8914939</td><td>TC(beads+cytokines)             </td></tr>\n",
       "</tbody>\n",
       "</table>\n"
      ],
      "text/latex": [
       "A data.frame: 12 × 2\n",
       "\\begin{tabular}{r|ll}\n",
       " Run & treatment\\\\\n",
       " <chr> & <chr>\\\\\n",
       "\\hline\n",
       "\t SRR8914928 & Unstimulated                    \\\\\n",
       "\t SRR8914929 & Unstimulated                    \\\\\n",
       "\t SRR8914930 & Unstimulated                    \\\\\n",
       "\t SRR8914931 & T(anti-CD3/CD28 beads only)     \\\\\n",
       "\t SRR8914932 & T(anti-CD3/CD28 beads only)     \\\\\n",
       "\t SRR8914933 & T(anti-CD3/CD28 beads only)     \\\\\n",
       "\t SRR8914934 & C(cytokines, IL-12/-15/-18/TL1A)\\\\\n",
       "\t SRR8914935 & C(cytokines, IL-12/-15/-18/TL1A)\\\\\n",
       "\t SRR8914936 & C(cytokines, IL-12/-15/-18/TL1A)\\\\\n",
       "\t SRR8914937 & TC(beads+cytokines)             \\\\\n",
       "\t SRR8914938 & TC(beads+cytokines)             \\\\\n",
       "\t SRR8914939 & TC(beads+cytokines)             \\\\\n",
       "\\end{tabular}\n"
      ],
      "text/markdown": [
       "\n",
       "A data.frame: 12 × 2\n",
       "\n",
       "| Run &lt;chr&gt; | treatment &lt;chr&gt; |\n",
       "|---|---|\n",
       "| SRR8914928 | Unstimulated                     |\n",
       "| SRR8914929 | Unstimulated                     |\n",
       "| SRR8914930 | Unstimulated                     |\n",
       "| SRR8914931 | T(anti-CD3/CD28 beads only)      |\n",
       "| SRR8914932 | T(anti-CD3/CD28 beads only)      |\n",
       "| SRR8914933 | T(anti-CD3/CD28 beads only)      |\n",
       "| SRR8914934 | C(cytokines, IL-12/-15/-18/TL1A) |\n",
       "| SRR8914935 | C(cytokines, IL-12/-15/-18/TL1A) |\n",
       "| SRR8914936 | C(cytokines, IL-12/-15/-18/TL1A) |\n",
       "| SRR8914937 | TC(beads+cytokines)              |\n",
       "| SRR8914938 | TC(beads+cytokines)              |\n",
       "| SRR8914939 | TC(beads+cytokines)              |\n",
       "\n"
      ],
      "text/plain": [
       "   Run        treatment                       \n",
       "1  SRR8914928 Unstimulated                    \n",
       "2  SRR8914929 Unstimulated                    \n",
       "3  SRR8914930 Unstimulated                    \n",
       "4  SRR8914931 T(anti-CD3/CD28 beads only)     \n",
       "5  SRR8914932 T(anti-CD3/CD28 beads only)     \n",
       "6  SRR8914933 T(anti-CD3/CD28 beads only)     \n",
       "7  SRR8914934 C(cytokines, IL-12/-15/-18/TL1A)\n",
       "8  SRR8914935 C(cytokines, IL-12/-15/-18/TL1A)\n",
       "9  SRR8914936 C(cytokines, IL-12/-15/-18/TL1A)\n",
       "10 SRR8914937 TC(beads+cytokines)             \n",
       "11 SRR8914938 TC(beads+cytokines)             \n",
       "12 SRR8914939 TC(beads+cytokines)             "
      ]
     },
     "metadata": {},
     "output_type": "display_data"
    }
   ],
   "source": [
    "metadata <- read.table(file.path('data','SraRunTable.txt'), sep='\\t', header=TRUE, comment.char = '', stringsAsFactors= FALSE)\n",
    "metadata <- dplyr::select(metadata, c('Run', 'treatment'))\n",
    "head(metadata, n = 20)"
   ]
  },
  {
   "cell_type": "code",
   "execution_count": 4,
   "metadata": {},
   "outputs": [
    {
     "data": {
      "text/html": [
       "<table>\n",
       "<caption>A data.frame: 6 × 2</caption>\n",
       "<thead>\n",
       "\t<tr><th></th><th scope=col>Run</th><th scope=col>treatment</th></tr>\n",
       "\t<tr><th></th><th scope=col>&lt;chr&gt;</th><th scope=col>&lt;chr&gt;</th></tr>\n",
       "</thead>\n",
       "<tbody>\n",
       "\t<tr><th scope=row>1</th><td>SRR8914928</td><td>Unstimulated       </td></tr>\n",
       "\t<tr><th scope=row>2</th><td>SRR8914929</td><td>Unstimulated       </td></tr>\n",
       "\t<tr><th scope=row>3</th><td>SRR8914930</td><td>Unstimulated       </td></tr>\n",
       "\t<tr><th scope=row>10</th><td>SRR8914937</td><td>TC(beads+cytokines)</td></tr>\n",
       "\t<tr><th scope=row>11</th><td>SRR8914938</td><td>TC(beads+cytokines)</td></tr>\n",
       "\t<tr><th scope=row>12</th><td>SRR8914939</td><td>TC(beads+cytokines)</td></tr>\n",
       "</tbody>\n",
       "</table>\n"
      ],
      "text/latex": [
       "A data.frame: 6 × 2\n",
       "\\begin{tabular}{r|ll}\n",
       "  & Run & treatment\\\\\n",
       "  & <chr> & <chr>\\\\\n",
       "\\hline\n",
       "\t1 & SRR8914928 & Unstimulated       \\\\\n",
       "\t2 & SRR8914929 & Unstimulated       \\\\\n",
       "\t3 & SRR8914930 & Unstimulated       \\\\\n",
       "\t10 & SRR8914937 & TC(beads+cytokines)\\\\\n",
       "\t11 & SRR8914938 & TC(beads+cytokines)\\\\\n",
       "\t12 & SRR8914939 & TC(beads+cytokines)\\\\\n",
       "\\end{tabular}\n"
      ],
      "text/markdown": [
       "\n",
       "A data.frame: 6 × 2\n",
       "\n",
       "| <!--/--> | Run &lt;chr&gt; | treatment &lt;chr&gt; |\n",
       "|---|---|---|\n",
       "| 1 | SRR8914928 | Unstimulated        |\n",
       "| 2 | SRR8914929 | Unstimulated        |\n",
       "| 3 | SRR8914930 | Unstimulated        |\n",
       "| 10 | SRR8914937 | TC(beads+cytokines) |\n",
       "| 11 | SRR8914938 | TC(beads+cytokines) |\n",
       "| 12 | SRR8914939 | TC(beads+cytokines) |\n",
       "\n"
      ],
      "text/plain": [
       "   Run        treatment          \n",
       "1  SRR8914928 Unstimulated       \n",
       "2  SRR8914929 Unstimulated       \n",
       "3  SRR8914930 Unstimulated       \n",
       "10 SRR8914937 TC(beads+cytokines)\n",
       "11 SRR8914938 TC(beads+cytokines)\n",
       "12 SRR8914939 TC(beads+cytokines)"
      ]
     },
     "metadata": {},
     "output_type": "display_data"
    }
   ],
   "source": [
    "#select the groups that you want to compare\n",
    "metadata <- metadata[metadata[, 'treatment'] %in% c('Unstimulated', 'TC(beads+cytokines)'),]\n",
    "head(metadata, n = 20)"
   ]
  },
  {
   "cell_type": "markdown",
   "metadata": {},
   "source": [
    "This file describes the experimental design, we add the path names of the kallisto output directories to the metadata table. We use the SRA run names listed under Run to identify the folders we must use for the correpsonding kallisto quantifications:"
   ]
  },
  {
   "cell_type": "code",
   "execution_count": 5,
   "metadata": {},
   "outputs": [
    {
     "data": {
      "text/html": [
       "<table>\n",
       "<caption>A data.frame: 6 × 3</caption>\n",
       "<thead>\n",
       "\t<tr><th scope=col>Run</th><th scope=col>treatment</th><th scope=col>path</th></tr>\n",
       "\t<tr><th scope=col>&lt;chr&gt;</th><th scope=col>&lt;chr&gt;</th><th scope=col>&lt;chr&gt;</th></tr>\n",
       "</thead>\n",
       "<tbody>\n",
       "\t<tr><td>SRR8914928</td><td>Unstimulated       </td><td>quant/kallisto_output/SRR8914928/abundance.h5</td></tr>\n",
       "\t<tr><td>SRR8914929</td><td>Unstimulated       </td><td>quant/kallisto_output/SRR8914929/abundance.h5</td></tr>\n",
       "\t<tr><td>SRR8914930</td><td>Unstimulated       </td><td>quant/kallisto_output/SRR8914930/abundance.h5</td></tr>\n",
       "\t<tr><td>SRR8914937</td><td>TC(beads+cytokines)</td><td>quant/kallisto_output/SRR8914937/abundance.h5</td></tr>\n",
       "\t<tr><td>SRR8914938</td><td>TC(beads+cytokines)</td><td>quant/kallisto_output/SRR8914938/abundance.h5</td></tr>\n",
       "\t<tr><td>SRR8914939</td><td>TC(beads+cytokines)</td><td>quant/kallisto_output/SRR8914939/abundance.h5</td></tr>\n",
       "</tbody>\n",
       "</table>\n"
      ],
      "text/latex": [
       "A data.frame: 6 × 3\n",
       "\\begin{tabular}{r|lll}\n",
       " Run & treatment & path\\\\\n",
       " <chr> & <chr> & <chr>\\\\\n",
       "\\hline\n",
       "\t SRR8914928 & Unstimulated        & quant/kallisto\\_output/SRR8914928/abundance.h5\\\\\n",
       "\t SRR8914929 & Unstimulated        & quant/kallisto\\_output/SRR8914929/abundance.h5\\\\\n",
       "\t SRR8914930 & Unstimulated        & quant/kallisto\\_output/SRR8914930/abundance.h5\\\\\n",
       "\t SRR8914937 & TC(beads+cytokines) & quant/kallisto\\_output/SRR8914937/abundance.h5\\\\\n",
       "\t SRR8914938 & TC(beads+cytokines) & quant/kallisto\\_output/SRR8914938/abundance.h5\\\\\n",
       "\t SRR8914939 & TC(beads+cytokines) & quant/kallisto\\_output/SRR8914939/abundance.h5\\\\\n",
       "\\end{tabular}\n"
      ],
      "text/markdown": [
       "\n",
       "A data.frame: 6 × 3\n",
       "\n",
       "| Run &lt;chr&gt; | treatment &lt;chr&gt; | path &lt;chr&gt; |\n",
       "|---|---|---|\n",
       "| SRR8914928 | Unstimulated        | quant/kallisto_output/SRR8914928/abundance.h5 |\n",
       "| SRR8914929 | Unstimulated        | quant/kallisto_output/SRR8914929/abundance.h5 |\n",
       "| SRR8914930 | Unstimulated        | quant/kallisto_output/SRR8914930/abundance.h5 |\n",
       "| SRR8914937 | TC(beads+cytokines) | quant/kallisto_output/SRR8914937/abundance.h5 |\n",
       "| SRR8914938 | TC(beads+cytokines) | quant/kallisto_output/SRR8914938/abundance.h5 |\n",
       "| SRR8914939 | TC(beads+cytokines) | quant/kallisto_output/SRR8914939/abundance.h5 |\n",
       "\n"
      ],
      "text/plain": [
       "  Run        treatment           path                                         \n",
       "1 SRR8914928 Unstimulated        quant/kallisto_output/SRR8914928/abundance.h5\n",
       "2 SRR8914929 Unstimulated        quant/kallisto_output/SRR8914929/abundance.h5\n",
       "3 SRR8914930 Unstimulated        quant/kallisto_output/SRR8914930/abundance.h5\n",
       "4 SRR8914937 TC(beads+cytokines) quant/kallisto_output/SRR8914937/abundance.h5\n",
       "5 SRR8914938 TC(beads+cytokines) quant/kallisto_output/SRR8914938/abundance.h5\n",
       "6 SRR8914939 TC(beads+cytokines) quant/kallisto_output/SRR8914939/abundance.h5"
      ]
     },
     "metadata": {},
     "output_type": "display_data"
    }
   ],
   "source": [
    "metadata <- dplyr::mutate(metadata,\n",
    "  path = file.path(QUANTDIR, Run, 'abundance.h5'))\n",
    "head(metadata)"
   ]
  },
  {
   "cell_type": "markdown",
   "metadata": {},
   "source": [
    "It is important to spot check the metadata file again to make sure that the kallisto runs correspond to the accession numbers in the table, so that each row is associated with the correct sample.\n",
    "\n",
    "We rename the ‘Run’ column to ‘sample.’ ‘sample’ and ‘path’ are the two column names that sleuth will need to find the sample name and the path of the kallisto qunatifications."
   ]
  },
  {
   "cell_type": "code",
   "execution_count": 6,
   "metadata": {},
   "outputs": [
    {
     "data": {
      "text/html": [
       "<table>\n",
       "<caption>A data.frame: 6 × 3</caption>\n",
       "<thead>\n",
       "\t<tr><th scope=col>sample</th><th scope=col>treatment</th><th scope=col>path</th></tr>\n",
       "\t<tr><th scope=col>&lt;chr&gt;</th><th scope=col>&lt;chr&gt;</th><th scope=col>&lt;chr&gt;</th></tr>\n",
       "</thead>\n",
       "<tbody>\n",
       "\t<tr><td>SRR8914928</td><td>Unstimulated       </td><td>quant/kallisto_output/SRR8914928/abundance.h5</td></tr>\n",
       "\t<tr><td>SRR8914929</td><td>Unstimulated       </td><td>quant/kallisto_output/SRR8914929/abundance.h5</td></tr>\n",
       "\t<tr><td>SRR8914930</td><td>Unstimulated       </td><td>quant/kallisto_output/SRR8914930/abundance.h5</td></tr>\n",
       "\t<tr><td>SRR8914937</td><td>TC(beads+cytokines)</td><td>quant/kallisto_output/SRR8914937/abundance.h5</td></tr>\n",
       "\t<tr><td>SRR8914938</td><td>TC(beads+cytokines)</td><td>quant/kallisto_output/SRR8914938/abundance.h5</td></tr>\n",
       "\t<tr><td>SRR8914939</td><td>TC(beads+cytokines)</td><td>quant/kallisto_output/SRR8914939/abundance.h5</td></tr>\n",
       "</tbody>\n",
       "</table>\n"
      ],
      "text/latex": [
       "A data.frame: 6 × 3\n",
       "\\begin{tabular}{r|lll}\n",
       " sample & treatment & path\\\\\n",
       " <chr> & <chr> & <chr>\\\\\n",
       "\\hline\n",
       "\t SRR8914928 & Unstimulated        & quant/kallisto\\_output/SRR8914928/abundance.h5\\\\\n",
       "\t SRR8914929 & Unstimulated        & quant/kallisto\\_output/SRR8914929/abundance.h5\\\\\n",
       "\t SRR8914930 & Unstimulated        & quant/kallisto\\_output/SRR8914930/abundance.h5\\\\\n",
       "\t SRR8914937 & TC(beads+cytokines) & quant/kallisto\\_output/SRR8914937/abundance.h5\\\\\n",
       "\t SRR8914938 & TC(beads+cytokines) & quant/kallisto\\_output/SRR8914938/abundance.h5\\\\\n",
       "\t SRR8914939 & TC(beads+cytokines) & quant/kallisto\\_output/SRR8914939/abundance.h5\\\\\n",
       "\\end{tabular}\n"
      ],
      "text/markdown": [
       "\n",
       "A data.frame: 6 × 3\n",
       "\n",
       "| sample &lt;chr&gt; | treatment &lt;chr&gt; | path &lt;chr&gt; |\n",
       "|---|---|---|\n",
       "| SRR8914928 | Unstimulated        | quant/kallisto_output/SRR8914928/abundance.h5 |\n",
       "| SRR8914929 | Unstimulated        | quant/kallisto_output/SRR8914929/abundance.h5 |\n",
       "| SRR8914930 | Unstimulated        | quant/kallisto_output/SRR8914930/abundance.h5 |\n",
       "| SRR8914937 | TC(beads+cytokines) | quant/kallisto_output/SRR8914937/abundance.h5 |\n",
       "| SRR8914938 | TC(beads+cytokines) | quant/kallisto_output/SRR8914938/abundance.h5 |\n",
       "| SRR8914939 | TC(beads+cytokines) | quant/kallisto_output/SRR8914939/abundance.h5 |\n",
       "\n"
      ],
      "text/plain": [
       "  sample     treatment           path                                         \n",
       "1 SRR8914928 Unstimulated        quant/kallisto_output/SRR8914928/abundance.h5\n",
       "2 SRR8914929 Unstimulated        quant/kallisto_output/SRR8914929/abundance.h5\n",
       "3 SRR8914930 Unstimulated        quant/kallisto_output/SRR8914930/abundance.h5\n",
       "4 SRR8914937 TC(beads+cytokines) quant/kallisto_output/SRR8914937/abundance.h5\n",
       "5 SRR8914938 TC(beads+cytokines) quant/kallisto_output/SRR8914938/abundance.h5\n",
       "6 SRR8914939 TC(beads+cytokines) quant/kallisto_output/SRR8914939/abundance.h5"
      ]
     },
     "metadata": {},
     "output_type": "display_data"
    }
   ],
   "source": [
    "metadata <- dplyr::rename(metadata, sample = Run)\n",
    "head(metadata)"
   ]
  },
  {
   "cell_type": "markdown",
   "metadata": {},
   "source": [
    "## Associating transcripts to genes\n",
    "The sample quantifications performed by kallisto have produced transcript abundance and count estimates. These have been parsed by sleuth in the steps just performed, however sleuth does not “know” about genes yet. To perform gene-level analysis sleuth must parse a gene annotation. These can be imported from the ttg.csv file created in the RNA_seq pipeline:\n",
    "\n"
   ]
  },
  {
   "cell_type": "code",
   "execution_count": 7,
   "metadata": {},
   "outputs": [
    {
     "data": {
      "text/html": [
       "<table>\n",
       "<caption>A data.frame: 6 × 3</caption>\n",
       "<thead>\n",
       "\t<tr><th scope=col>target_id</th><th scope=col>ens_gene</th><th scope=col>ext_gene</th></tr>\n",
       "\t<tr><th scope=col>&lt;chr&gt;</th><th scope=col>&lt;chr&gt;</th><th scope=col>&lt;chr&gt;</th></tr>\n",
       "</thead>\n",
       "<tbody>\n",
       "\t<tr><td>ENST00000456328.2|ENSG00000223972.5|OTTHUMG00000000961.2|OTTHUMT00000362751.1|DDX11L1-202|DDX11L1|1657|processed_transcript|             </td><td>ENSG00000223972.5</td><td>DDX11L1    </td></tr>\n",
       "\t<tr><td>ENST00000450305.2|ENSG00000223972.5|OTTHUMG00000000961.2|OTTHUMT00000002844.2|DDX11L1-201|DDX11L1|632|transcribed_unprocessed_pseudogene|</td><td>ENSG00000223972.5</td><td>DDX11L1    </td></tr>\n",
       "\t<tr><td>ENST00000488147.1|ENSG00000227232.5|OTTHUMG00000000958.1|OTTHUMT00000002839.1|WASH7P-201|WASH7P|1351|unprocessed_pseudogene|             </td><td>ENSG00000227232.5</td><td>WASH7P     </td></tr>\n",
       "\t<tr><td>ENST00000619216.1|ENSG00000278267.1|-|-|MIR6859-1-201|MIR6859-1|68|miRNA|                                                                </td><td>ENSG00000278267.1</td><td>MIR6859-1  </td></tr>\n",
       "\t<tr><td>ENST00000473358.1|ENSG00000243485.5|OTTHUMG00000000959.2|OTTHUMT00000002840.1|MIR1302-2HG-202|MIR1302-2HG|712|lincRNA|                   </td><td>ENSG00000243485.5</td><td>MIR1302-2HG</td></tr>\n",
       "\t<tr><td>ENST00000469289.1|ENSG00000243485.5|OTTHUMG00000000959.2|OTTHUMT00000002841.2|MIR1302-2HG-201|MIR1302-2HG|535|lincRNA|                   </td><td>ENSG00000243485.5</td><td>MIR1302-2HG</td></tr>\n",
       "</tbody>\n",
       "</table>\n"
      ],
      "text/latex": [
       "A data.frame: 6 × 3\n",
       "\\begin{tabular}{r|lll}\n",
       " target\\_id & ens\\_gene & ext\\_gene\\\\\n",
       " <chr> & <chr> & <chr>\\\\\n",
       "\\hline\n",
       "\t ENST00000456328.2\\textbar{}ENSG00000223972.5\\textbar{}OTTHUMG00000000961.2\\textbar{}OTTHUMT00000362751.1\\textbar{}DDX11L1-202\\textbar{}DDX11L1\\textbar{}1657\\textbar{}processed\\_transcript\\textbar{}              & ENSG00000223972.5 & DDX11L1    \\\\\n",
       "\t ENST00000450305.2\\textbar{}ENSG00000223972.5\\textbar{}OTTHUMG00000000961.2\\textbar{}OTTHUMT00000002844.2\\textbar{}DDX11L1-201\\textbar{}DDX11L1\\textbar{}632\\textbar{}transcribed\\_unprocessed\\_pseudogene\\textbar{} & ENSG00000223972.5 & DDX11L1    \\\\\n",
       "\t ENST00000488147.1\\textbar{}ENSG00000227232.5\\textbar{}OTTHUMG00000000958.1\\textbar{}OTTHUMT00000002839.1\\textbar{}WASH7P-201\\textbar{}WASH7P\\textbar{}1351\\textbar{}unprocessed\\_pseudogene\\textbar{}              & ENSG00000227232.5 & WASH7P     \\\\\n",
       "\t ENST00000619216.1\\textbar{}ENSG00000278267.1\\textbar{}-\\textbar{}-\\textbar{}MIR6859-1-201\\textbar{}MIR6859-1\\textbar{}68\\textbar{}miRNA\\textbar{}                                                                 & ENSG00000278267.1 & MIR6859-1  \\\\\n",
       "\t ENST00000473358.1\\textbar{}ENSG00000243485.5\\textbar{}OTTHUMG00000000959.2\\textbar{}OTTHUMT00000002840.1\\textbar{}MIR1302-2HG-202\\textbar{}MIR1302-2HG\\textbar{}712\\textbar{}lincRNA\\textbar{}                    & ENSG00000243485.5 & MIR1302-2HG\\\\\n",
       "\t ENST00000469289.1\\textbar{}ENSG00000243485.5\\textbar{}OTTHUMG00000000959.2\\textbar{}OTTHUMT00000002841.2\\textbar{}MIR1302-2HG-201\\textbar{}MIR1302-2HG\\textbar{}535\\textbar{}lincRNA\\textbar{}                    & ENSG00000243485.5 & MIR1302-2HG\\\\\n",
       "\\end{tabular}\n"
      ],
      "text/markdown": [
       "\n",
       "A data.frame: 6 × 3\n",
       "\n",
       "| target_id &lt;chr&gt; | ens_gene &lt;chr&gt; | ext_gene &lt;chr&gt; |\n",
       "|---|---|---|\n",
       "| ENST00000456328.2|ENSG00000223972.5|OTTHUMG00000000961.2|OTTHUMT00000362751.1|DDX11L1-202|DDX11L1|1657|processed_transcript|              | ENSG00000223972.5 | DDX11L1     |\n",
       "| ENST00000450305.2|ENSG00000223972.5|OTTHUMG00000000961.2|OTTHUMT00000002844.2|DDX11L1-201|DDX11L1|632|transcribed_unprocessed_pseudogene| | ENSG00000223972.5 | DDX11L1     |\n",
       "| ENST00000488147.1|ENSG00000227232.5|OTTHUMG00000000958.1|OTTHUMT00000002839.1|WASH7P-201|WASH7P|1351|unprocessed_pseudogene|              | ENSG00000227232.5 | WASH7P      |\n",
       "| ENST00000619216.1|ENSG00000278267.1|-|-|MIR6859-1-201|MIR6859-1|68|miRNA|                                                                 | ENSG00000278267.1 | MIR6859-1   |\n",
       "| ENST00000473358.1|ENSG00000243485.5|OTTHUMG00000000959.2|OTTHUMT00000002840.1|MIR1302-2HG-202|MIR1302-2HG|712|lincRNA|                    | ENSG00000243485.5 | MIR1302-2HG |\n",
       "| ENST00000469289.1|ENSG00000243485.5|OTTHUMG00000000959.2|OTTHUMT00000002841.2|MIR1302-2HG-201|MIR1302-2HG|535|lincRNA|                    | ENSG00000243485.5 | MIR1302-2HG |\n",
       "\n"
      ],
      "text/plain": [
       "  target_id                                                                                                                                \n",
       "1 ENST00000456328.2|ENSG00000223972.5|OTTHUMG00000000961.2|OTTHUMT00000362751.1|DDX11L1-202|DDX11L1|1657|processed_transcript|             \n",
       "2 ENST00000450305.2|ENSG00000223972.5|OTTHUMG00000000961.2|OTTHUMT00000002844.2|DDX11L1-201|DDX11L1|632|transcribed_unprocessed_pseudogene|\n",
       "3 ENST00000488147.1|ENSG00000227232.5|OTTHUMG00000000958.1|OTTHUMT00000002839.1|WASH7P-201|WASH7P|1351|unprocessed_pseudogene|             \n",
       "4 ENST00000619216.1|ENSG00000278267.1|-|-|MIR6859-1-201|MIR6859-1|68|miRNA|                                                                \n",
       "5 ENST00000473358.1|ENSG00000243485.5|OTTHUMG00000000959.2|OTTHUMT00000002840.1|MIR1302-2HG-202|MIR1302-2HG|712|lincRNA|                   \n",
       "6 ENST00000469289.1|ENSG00000243485.5|OTTHUMG00000000959.2|OTTHUMT00000002841.2|MIR1302-2HG-201|MIR1302-2HG|535|lincRNA|                   \n",
       "  ens_gene          ext_gene   \n",
       "1 ENSG00000223972.5 DDX11L1    \n",
       "2 ENSG00000223972.5 DDX11L1    \n",
       "3 ENSG00000227232.5 WASH7P     \n",
       "4 ENSG00000278267.1 MIR6859-1  \n",
       "5 ENSG00000243485.5 MIR1302-2HG\n",
       "6 ENSG00000243485.5 MIR1302-2HG"
      ]
     },
     "metadata": {},
     "output_type": "display_data"
    }
   ],
   "source": [
    "ttg <- read.table(file.path('data', 'ttg_kallisto.csv'), sep=',', header=TRUE, stringsAsFactors= FALSE)\n",
    "head(ttg)"
   ]
  },
  {
   "cell_type": "markdown",
   "metadata": {},
   "source": [
    "The resulting table contains Ensembl gene names (‘ens_gene’) and the associated transcripts (‘target_id’). Note that the gene-transcript mapping must be compatible with the transcriptome used with kallisto. In other words, to use Ensembl transcript-gene associations kallisto was run using the Ensembl transcriptome.\n",
    "\n",
    "## Preparing the analysis\n",
    "The next step is to build a sleuth object. The sleuth object contains specification of the experimental design, a map describing grouping of transcripts into genes (or other groups), and a number of user specific parameters. In the example that follows, `metadata`\n",
    " is the experimental design and `target_mapping` describes the transcript groupings into genes previously constructed. Furthermore, we provide an aggregation_column, the column name of in ‘target_mapping’ table that is used to aggregate the transcripts. When both ‘target_mapping’ and ‘aggregation_column’ are provided, sleuth will automatically run in gene mode, returning gene differential expression results that came from the aggregation of transcript p-values."
   ]
  },
  {
   "cell_type": "code",
   "execution_count": 8,
   "metadata": {},
   "outputs": [
    {
     "name": "stderr",
     "output_type": "stream",
     "text": [
      "reading in kallisto results\n",
      "dropping unused factor levels\n",
      "......\n",
      "normalizing est_counts\n",
      "59371 targets passed the filter\n",
      "normalizing tpm\n",
      "merging in metadata\n",
      "summarizing bootstraps\n",
      "\n"
     ]
    }
   ],
   "source": [
    "so <- sleuth_prep(metadata, target_mapping = ttg,\n",
    "  aggregation_column = 'ens_gene', extra_bootstrap_summary = TRUE)"
   ]
  },
  {
   "cell_type": "markdown",
   "metadata": {},
   "source": [
    "## The analysis\n",
    "Then the full model is fit with"
   ]
  },
  {
   "cell_type": "code",
   "execution_count": 9,
   "metadata": {},
   "outputs": [
    {
     "name": "stderr",
     "output_type": "stream",
     "text": [
      "fitting measurement error models\n",
      "shrinkage estimation\n",
      "3 NA values were found during variance shrinkage estimation due to mean observation values outside of the range used for the LOESS fit.\n",
      "The LOESS fit will be repeated using exact computation of the fitted surface to extrapolate the missing values.\n",
      "These are the target ids with NA values: ENST00000488905.1|ENSG00000094631.19|OTTHUMG00000034496.7|OTTHUMT00000318645.1|HDAC6-230|HDAC6|492|retained_intron|, ENST00000561579.6|ENSG00000159593.15|OTTHUMG00000137513.8|OTTHUMT00000421048.4|NAE1-205|NAE1|728|protein_coding|, ENST00000566745.1|ENSG00000260898.5|OTTHUMG00000173100.1|OTTHUMT00000422137.1|ADPGK-AS1-202|ADPGK-AS1|765|antisense|\n",
      "computing variance of betas\n"
     ]
    }
   ],
   "source": [
    "so <- sleuth_fit(so, ~treatment, 'full')"
   ]
  },
  {
   "cell_type": "markdown",
   "metadata": {},
   "source": [
    "What this has accomplished is to “smooth” the raw kallisto abundance estimates for each sample using a linear model with a parameter that represents the experimental condition. To test for transcripts that are differential expressed between the conditions, sleuth performs a second fit to a “reduced” model that presumes abundances are equal in the two conditions. To identify differential expressed transcripts sleuth will then identify transcripts with a significantly better fit with the “full” model.\n",
    "\n",
    "The “reduced” model is fit with"
   ]
  },
  {
   "cell_type": "code",
   "execution_count": 10,
   "metadata": {},
   "outputs": [
    {
     "name": "stderr",
     "output_type": "stream",
     "text": [
      "fitting measurement error models\n",
      "shrinkage estimation\n",
      "1 NA values were found during variance shrinkage estimation due to mean observation values outside of the range used for the LOESS fit.\n",
      "The LOESS fit will be repeated using exact computation of the fitted surface to extrapolate the missing values.\n",
      "These are the target ids with NA values: ENST00000566745.1|ENSG00000260898.5|OTTHUMG00000173100.1|OTTHUMT00000422137.1|ADPGK-AS1-202|ADPGK-AS1|765|antisense|\n",
      "computing variance of betas\n"
     ]
    }
   ],
   "source": [
    "so <- sleuth_fit(so, ~1, 'reduced')"
   ]
  },
  {
   "cell_type": "markdown",
   "metadata": {},
   "source": [
    "and the test is performed with"
   ]
  },
  {
   "cell_type": "code",
   "execution_count": 11,
   "metadata": {},
   "outputs": [],
   "source": [
    "#The likelihood ratio test (lrt) is performed with\n",
    "so <- sleuth_lrt(so, 'reduced', 'full')"
   ]
  },
  {
   "cell_type": "markdown",
   "metadata": {},
   "source": [
    "In general, sleuth can utilize the likelihood ratio test with any pair of models that are nested, and other walkthroughs illustrate the power of such a framework for accounting for batch effects and more complex experimental designs.\n",
    "\n",
    "The models that have been fit can always be examined with the models() function."
   ]
  },
  {
   "cell_type": "code",
   "execution_count": 12,
   "metadata": {},
   "outputs": [
    {
     "name": "stdout",
     "output_type": "stream",
     "text": [
      "[  full  ]\n",
      "formula:  ~treatment \n",
      "data modeled:  obs_counts \n",
      "transform sync'ed:  TRUE \n",
      "coefficients:\n",
      "\t(Intercept)\n",
      " \ttreatmentUnstimulated\n",
      "[  reduced  ]\n",
      "formula:  ~1 \n",
      "data modeled:  obs_counts \n",
      "transform sync'ed:  TRUE \n",
      "coefficients:\n",
      "\t(Intercept)\n"
     ]
    }
   ],
   "source": [
    "models(so)"
   ]
  },
  {
   "cell_type": "markdown",
   "metadata": {},
   "source": [
    "## Obtaining gene-level differential expression results\n",
    "When running the command ‘sleuth_results,’ sleuth uses the p-values from comparing transcripts to make a gene-level determination and perform gene differential expression."
   ]
  },
  {
   "cell_type": "code",
   "execution_count": 13,
   "metadata": {},
   "outputs": [
    {
     "data": {
      "text/html": [
       "<table>\n",
       "<caption>A data.frame: 20 × 6</caption>\n",
       "<thead>\n",
       "\t<tr><th scope=col>target_id</th><th scope=col>ext_gene</th><th scope=col>num_aggregated_transcripts</th><th scope=col>sum_mean_obs_counts</th><th scope=col>pval</th><th scope=col>qval</th></tr>\n",
       "\t<tr><th scope=col>&lt;chr&gt;</th><th scope=col>&lt;chr&gt;</th><th scope=col>&lt;int&gt;</th><th scope=col>&lt;dbl&gt;</th><th scope=col>&lt;dbl&gt;</th><th scope=col>&lt;dbl&gt;</th></tr>\n",
       "</thead>\n",
       "<tbody>\n",
       "\t<tr><td>ENSG00000140105.18</td><td>WARS    </td><td>31</td><td> 83.27013</td><td>6.674033e-52</td><td>1.107422e-47</td></tr>\n",
       "\t<tr><td>ENSG00000081059.20</td><td>TCF7    </td><td>17</td><td> 47.69766</td><td>4.867035e-40</td><td>4.037935e-36</td></tr>\n",
       "\t<tr><td>ENSG00000182199.11</td><td>SHMT2   </td><td>19</td><td> 59.60593</td><td>3.453029e-37</td><td>1.909871e-33</td></tr>\n",
       "\t<tr><td>ENSG00000100453.13</td><td>GZMB    </td><td> 9</td><td> 35.24479</td><td>8.196842e-34</td><td>3.400255e-30</td></tr>\n",
       "\t<tr><td>ENSG00000010810.17</td><td>FYN     </td><td>22</td><td> 89.76911</td><td>2.391908e-33</td><td>7.937784e-30</td></tr>\n",
       "\t<tr><td>ENSG00000078304.19</td><td>PPP2R5C </td><td>24</td><td> 93.51351</td><td>2.927907e-31</td><td>8.097126e-28</td></tr>\n",
       "\t<tr><td>ENSG00000169045.17</td><td>HNRNPH1 </td><td>30</td><td>124.59301</td><td>1.117369e-30</td><td>2.648644e-27</td></tr>\n",
       "\t<tr><td>ENSG00000184640.18</td><td>SEPT9   </td><td>22</td><td> 72.74082</td><td>3.620723e-30</td><td>7.509831e-27</td></tr>\n",
       "\t<tr><td>ENSG00000183010.16</td><td>PYCR1   </td><td> 9</td><td> 22.44236</td><td>6.204286e-30</td><td>1.134772e-26</td></tr>\n",
       "\t<tr><td>ENSG00000132341.12</td><td>RAN     </td><td>11</td><td> 56.45409</td><td>6.838859e-30</td><td>1.134772e-26</td></tr>\n",
       "\t<tr><td>ENSG00000153187.20</td><td>HNRNPU  </td><td>19</td><td> 84.56788</td><td>4.024572e-29</td><td>6.070884e-26</td></tr>\n",
       "\t<tr><td>ENSG00000004399.12</td><td>PLXND1  </td><td>15</td><td> 47.98570</td><td>4.515687e-29</td><td>6.244066e-26</td></tr>\n",
       "\t<tr><td>ENSG00000100242.15</td><td>SUN2    </td><td>15</td><td> 50.37656</td><td>5.071128e-29</td><td>6.472710e-26</td></tr>\n",
       "\t<tr><td>ENSG00000003402.20</td><td>CFLAR   </td><td>21</td><td> 81.19212</td><td>6.147058e-29</td><td>7.285581e-26</td></tr>\n",
       "\t<tr><td>ENSG00000065911.12</td><td>MTHFD2  </td><td> 7</td><td> 34.59944</td><td>4.294319e-28</td><td>4.750375e-25</td></tr>\n",
       "\t<tr><td>ENSG00000196405.13</td><td>EVL     </td><td>17</td><td> 49.54751</td><td>3.464708e-27</td><td>3.593119e-24</td></tr>\n",
       "\t<tr><td>ENSG00000160593.18</td><td>JAML    </td><td>10</td><td> 54.32162</td><td>2.322405e-26</td><td>2.266804e-23</td></tr>\n",
       "\t<tr><td>ENSG00000215788.10</td><td>TNFRSF25</td><td>17</td><td> 75.85540</td><td>2.971904e-26</td><td>2.739600e-23</td></tr>\n",
       "\t<tr><td>ENSG00000181163.13</td><td>NPM1    </td><td> 9</td><td> 50.86659</td><td>1.151896e-25</td><td>1.005969e-22</td></tr>\n",
       "\t<tr><td>ENSG00000136527.18</td><td>TRA2B   </td><td>11</td><td> 57.02190</td><td>1.332035e-25</td><td>1.105122e-22</td></tr>\n",
       "</tbody>\n",
       "</table>\n"
      ],
      "text/latex": [
       "A data.frame: 20 × 6\n",
       "\\begin{tabular}{r|llllll}\n",
       " target\\_id & ext\\_gene & num\\_aggregated\\_transcripts & sum\\_mean\\_obs\\_counts & pval & qval\\\\\n",
       " <chr> & <chr> & <int> & <dbl> & <dbl> & <dbl>\\\\\n",
       "\\hline\n",
       "\t ENSG00000140105.18 & WARS     & 31 &  83.27013 & 6.674033e-52 & 1.107422e-47\\\\\n",
       "\t ENSG00000081059.20 & TCF7     & 17 &  47.69766 & 4.867035e-40 & 4.037935e-36\\\\\n",
       "\t ENSG00000182199.11 & SHMT2    & 19 &  59.60593 & 3.453029e-37 & 1.909871e-33\\\\\n",
       "\t ENSG00000100453.13 & GZMB     &  9 &  35.24479 & 8.196842e-34 & 3.400255e-30\\\\\n",
       "\t ENSG00000010810.17 & FYN      & 22 &  89.76911 & 2.391908e-33 & 7.937784e-30\\\\\n",
       "\t ENSG00000078304.19 & PPP2R5C  & 24 &  93.51351 & 2.927907e-31 & 8.097126e-28\\\\\n",
       "\t ENSG00000169045.17 & HNRNPH1  & 30 & 124.59301 & 1.117369e-30 & 2.648644e-27\\\\\n",
       "\t ENSG00000184640.18 & SEPT9    & 22 &  72.74082 & 3.620723e-30 & 7.509831e-27\\\\\n",
       "\t ENSG00000183010.16 & PYCR1    &  9 &  22.44236 & 6.204286e-30 & 1.134772e-26\\\\\n",
       "\t ENSG00000132341.12 & RAN      & 11 &  56.45409 & 6.838859e-30 & 1.134772e-26\\\\\n",
       "\t ENSG00000153187.20 & HNRNPU   & 19 &  84.56788 & 4.024572e-29 & 6.070884e-26\\\\\n",
       "\t ENSG00000004399.12 & PLXND1   & 15 &  47.98570 & 4.515687e-29 & 6.244066e-26\\\\\n",
       "\t ENSG00000100242.15 & SUN2     & 15 &  50.37656 & 5.071128e-29 & 6.472710e-26\\\\\n",
       "\t ENSG00000003402.20 & CFLAR    & 21 &  81.19212 & 6.147058e-29 & 7.285581e-26\\\\\n",
       "\t ENSG00000065911.12 & MTHFD2   &  7 &  34.59944 & 4.294319e-28 & 4.750375e-25\\\\\n",
       "\t ENSG00000196405.13 & EVL      & 17 &  49.54751 & 3.464708e-27 & 3.593119e-24\\\\\n",
       "\t ENSG00000160593.18 & JAML     & 10 &  54.32162 & 2.322405e-26 & 2.266804e-23\\\\\n",
       "\t ENSG00000215788.10 & TNFRSF25 & 17 &  75.85540 & 2.971904e-26 & 2.739600e-23\\\\\n",
       "\t ENSG00000181163.13 & NPM1     &  9 &  50.86659 & 1.151896e-25 & 1.005969e-22\\\\\n",
       "\t ENSG00000136527.18 & TRA2B    & 11 &  57.02190 & 1.332035e-25 & 1.105122e-22\\\\\n",
       "\\end{tabular}\n"
      ],
      "text/markdown": [
       "\n",
       "A data.frame: 20 × 6\n",
       "\n",
       "| target_id &lt;chr&gt; | ext_gene &lt;chr&gt; | num_aggregated_transcripts &lt;int&gt; | sum_mean_obs_counts &lt;dbl&gt; | pval &lt;dbl&gt; | qval &lt;dbl&gt; |\n",
       "|---|---|---|---|---|---|\n",
       "| ENSG00000140105.18 | WARS     | 31 |  83.27013 | 6.674033e-52 | 1.107422e-47 |\n",
       "| ENSG00000081059.20 | TCF7     | 17 |  47.69766 | 4.867035e-40 | 4.037935e-36 |\n",
       "| ENSG00000182199.11 | SHMT2    | 19 |  59.60593 | 3.453029e-37 | 1.909871e-33 |\n",
       "| ENSG00000100453.13 | GZMB     |  9 |  35.24479 | 8.196842e-34 | 3.400255e-30 |\n",
       "| ENSG00000010810.17 | FYN      | 22 |  89.76911 | 2.391908e-33 | 7.937784e-30 |\n",
       "| ENSG00000078304.19 | PPP2R5C  | 24 |  93.51351 | 2.927907e-31 | 8.097126e-28 |\n",
       "| ENSG00000169045.17 | HNRNPH1  | 30 | 124.59301 | 1.117369e-30 | 2.648644e-27 |\n",
       "| ENSG00000184640.18 | SEPT9    | 22 |  72.74082 | 3.620723e-30 | 7.509831e-27 |\n",
       "| ENSG00000183010.16 | PYCR1    |  9 |  22.44236 | 6.204286e-30 | 1.134772e-26 |\n",
       "| ENSG00000132341.12 | RAN      | 11 |  56.45409 | 6.838859e-30 | 1.134772e-26 |\n",
       "| ENSG00000153187.20 | HNRNPU   | 19 |  84.56788 | 4.024572e-29 | 6.070884e-26 |\n",
       "| ENSG00000004399.12 | PLXND1   | 15 |  47.98570 | 4.515687e-29 | 6.244066e-26 |\n",
       "| ENSG00000100242.15 | SUN2     | 15 |  50.37656 | 5.071128e-29 | 6.472710e-26 |\n",
       "| ENSG00000003402.20 | CFLAR    | 21 |  81.19212 | 6.147058e-29 | 7.285581e-26 |\n",
       "| ENSG00000065911.12 | MTHFD2   |  7 |  34.59944 | 4.294319e-28 | 4.750375e-25 |\n",
       "| ENSG00000196405.13 | EVL      | 17 |  49.54751 | 3.464708e-27 | 3.593119e-24 |\n",
       "| ENSG00000160593.18 | JAML     | 10 |  54.32162 | 2.322405e-26 | 2.266804e-23 |\n",
       "| ENSG00000215788.10 | TNFRSF25 | 17 |  75.85540 | 2.971904e-26 | 2.739600e-23 |\n",
       "| ENSG00000181163.13 | NPM1     |  9 |  50.86659 | 1.151896e-25 | 1.005969e-22 |\n",
       "| ENSG00000136527.18 | TRA2B    | 11 |  57.02190 | 1.332035e-25 | 1.105122e-22 |\n",
       "\n"
      ],
      "text/plain": [
       "   target_id          ext_gene num_aggregated_transcripts sum_mean_obs_counts\n",
       "1  ENSG00000140105.18 WARS     31                          83.27013          \n",
       "2  ENSG00000081059.20 TCF7     17                          47.69766          \n",
       "3  ENSG00000182199.11 SHMT2    19                          59.60593          \n",
       "4  ENSG00000100453.13 GZMB      9                          35.24479          \n",
       "5  ENSG00000010810.17 FYN      22                          89.76911          \n",
       "6  ENSG00000078304.19 PPP2R5C  24                          93.51351          \n",
       "7  ENSG00000169045.17 HNRNPH1  30                         124.59301          \n",
       "8  ENSG00000184640.18 SEPT9    22                          72.74082          \n",
       "9  ENSG00000183010.16 PYCR1     9                          22.44236          \n",
       "10 ENSG00000132341.12 RAN      11                          56.45409          \n",
       "11 ENSG00000153187.20 HNRNPU   19                          84.56788          \n",
       "12 ENSG00000004399.12 PLXND1   15                          47.98570          \n",
       "13 ENSG00000100242.15 SUN2     15                          50.37656          \n",
       "14 ENSG00000003402.20 CFLAR    21                          81.19212          \n",
       "15 ENSG00000065911.12 MTHFD2    7                          34.59944          \n",
       "16 ENSG00000196405.13 EVL      17                          49.54751          \n",
       "17 ENSG00000160593.18 JAML     10                          54.32162          \n",
       "18 ENSG00000215788.10 TNFRSF25 17                          75.85540          \n",
       "19 ENSG00000181163.13 NPM1      9                          50.86659          \n",
       "20 ENSG00000136527.18 TRA2B    11                          57.02190          \n",
       "   pval         qval        \n",
       "1  6.674033e-52 1.107422e-47\n",
       "2  4.867035e-40 4.037935e-36\n",
       "3  3.453029e-37 1.909871e-33\n",
       "4  8.196842e-34 3.400255e-30\n",
       "5  2.391908e-33 7.937784e-30\n",
       "6  2.927907e-31 8.097126e-28\n",
       "7  1.117369e-30 2.648644e-27\n",
       "8  3.620723e-30 7.509831e-27\n",
       "9  6.204286e-30 1.134772e-26\n",
       "10 6.838859e-30 1.134772e-26\n",
       "11 4.024572e-29 6.070884e-26\n",
       "12 4.515687e-29 6.244066e-26\n",
       "13 5.071128e-29 6.472710e-26\n",
       "14 6.147058e-29 7.285581e-26\n",
       "15 4.294319e-28 4.750375e-25\n",
       "16 3.464708e-27 3.593119e-24\n",
       "17 2.322405e-26 2.266804e-23\n",
       "18 2.971904e-26 2.739600e-23\n",
       "19 1.151896e-25 1.005969e-22\n",
       "20 1.332035e-25 1.105122e-22"
      ]
     },
     "metadata": {},
     "output_type": "display_data"
    }
   ],
   "source": [
    "sleuth_table_gene <- sleuth_results(so, 'reduced:full', 'lrt', show_all = FALSE)\n",
    "sleuth_table_gene <- dplyr::filter(sleuth_table_gene, qval <= 0.05)\n",
    "#The most significantly differential genes are\n",
    "head(sleuth_table_gene, 20)"
   ]
  },
  {
   "cell_type": "markdown",
   "metadata": {},
   "source": [
    "The ‘num_aggregated_transcripts’ column lists the number of transcripts used to make the gene determination. ‘pval’ displays the p-value for the gene. ‘qval’ displays the Benjamini-Hochberg-adjusted false discovery rate for the gene.\n",
    "\n",
    "## Obtaining consistent transcript-level differential expression results\n",
    "Because gene results are built on transcript results, the gene and transcript results are entirely consistent and compatible with each other. To visualize the transcript results that led to the gene results above, one merely runs sleuth_results again but this time setting the flag ‘pval_aggregate’ to FALSE."
   ]
  },
  {
   "cell_type": "code",
   "execution_count": 14,
   "metadata": {},
   "outputs": [
    {
     "data": {
      "text/html": [
       "<table>\n",
       "<caption>A data.frame: 20 × 14</caption>\n",
       "<thead>\n",
       "\t<tr><th scope=col>target_id</th><th scope=col>ens_gene</th><th scope=col>ext_gene</th><th scope=col>pval</th><th scope=col>qval</th><th scope=col>test_stat</th><th scope=col>rss</th><th scope=col>degrees_free</th><th scope=col>mean_obs</th><th scope=col>var_obs</th><th scope=col>tech_var</th><th scope=col>sigma_sq</th><th scope=col>smooth_sigma_sq</th><th scope=col>final_sigma_sq</th></tr>\n",
       "\t<tr><th scope=col>&lt;chr&gt;</th><th scope=col>&lt;chr&gt;</th><th scope=col>&lt;chr&gt;</th><th scope=col>&lt;dbl&gt;</th><th scope=col>&lt;dbl&gt;</th><th scope=col>&lt;dbl&gt;</th><th scope=col>&lt;dbl&gt;</th><th scope=col>&lt;int&gt;</th><th scope=col>&lt;dbl&gt;</th><th scope=col>&lt;dbl&gt;</th><th scope=col>&lt;dbl&gt;</th><th scope=col>&lt;dbl&gt;</th><th scope=col>&lt;dbl&gt;</th><th scope=col>&lt;dbl&gt;</th></tr>\n",
       "</thead>\n",
       "<tbody>\n",
       "\t<tr><td>ENST00000253063.4|ENSG00000130766.5|OTTHUMG00000003532.2|OTTHUMT00000009840.2|SESN2-201|SESN2|3462|protein_coding|            </td><td>ENSG00000130766.5 </td><td>SESN2  </td><td>3.109966e-09</td><td>2.023716e-05</td><td>35.11375</td><td>11.377268</td><td>1</td><td>7.744285</td><td>2.275454</td><td>0.0007887173</td><td>2.274665</td><td>0.1145990</td><td>2.274665</td></tr>\n",
       "\t<tr><td>ENST00000360110.9|ENSG00000072274.13|OTTHUMG00000155714.3|OTTHUMT00000341346.2|TFRC-201|TFRC|5012|protein_coding|             </td><td>ENSG00000072274.13</td><td>TFRC   </td><td>1.711042e-09</td><td>2.023716e-05</td><td>36.27777</td><td>19.051851</td><td>1</td><td>8.165266</td><td>3.810370</td><td>0.0010891066</td><td>3.809281</td><td>0.1169632</td><td>3.809281</td></tr>\n",
       "\t<tr><td>ENST00000374517.6|ENSG00000136810.13|OTTHUMG00000020480.2|OTTHUMT00000053614.2|TXN-202|TXN|737|protein_coding|                </td><td>ENSG00000136810.13</td><td>TXN    </td><td>2.928016e-09</td><td>2.023716e-05</td><td>35.23116</td><td>13.393763</td><td>1</td><td>7.809075</td><td>2.678753</td><td>0.0008575954</td><td>2.677895</td><td>0.1147166</td><td>2.677895</td></tr>\n",
       "\t<tr><td>ENST00000376509.4|ENSG00000102096.9|OTTHUMG00000024132.2|OTTHUMT00000060805.1|PIM2-201|PIM2|2075|protein_coding|              </td><td>ENSG00000102096.9 </td><td>PIM2   </td><td>2.092917e-09</td><td>2.023716e-05</td><td>35.88521</td><td>14.101121</td><td>1</td><td>8.751628</td><td>2.820224</td><td>0.0003598689</td><td>2.819864</td><td>0.1269611</td><td>2.819864</td></tr>\n",
       "\t<tr><td>ENST00000379959.7|ENSG00000134460.17|OTTHUMG00000017616.4|OTTHUMT00000046627.1|IL2RA-203|IL2RA|3176|protein_coding|           </td><td>ENSG00000134460.17</td><td>IL2RA  </td><td>3.408594e-09</td><td>2.023716e-05</td><td>34.93522</td><td>49.495861</td><td>1</td><td>8.245347</td><td>9.899172</td><td>0.0039507450</td><td>9.895222</td><td>0.1178502</td><td>9.895222</td></tr>\n",
       "\t<tr><td>ENST00000380956.9|ENSG00000137265.15|OTTHUMG00000016294.5|OTTHUMT00000043638.3|IRF4-201|IRF4|5314|protein_coding|             </td><td>ENSG00000137265.15</td><td>IRF4   </td><td>2.933747e-09</td><td>2.023716e-05</td><td>35.22735</td><td>42.622878</td><td>1</td><td>7.696539</td><td>8.524576</td><td>0.0029354681</td><td>8.521640</td><td>0.1145687</td><td>8.521640</td></tr>\n",
       "\t<tr><td>ENST00000389266.8|ENSG00000106105.14|OTTHUMG00000152769.2|OTTHUMT00000327735.2|GARS-201|GARS|2437|protein_coding|             </td><td>ENSG00000106105.14</td><td>GARS   </td><td>2.241307e-09</td><td>2.023716e-05</td><td>35.75175</td><td>15.205941</td><td>1</td><td>8.880037</td><td>3.041188</td><td>0.0003338515</td><td>3.040854</td><td>0.1303138</td><td>3.040854</td></tr>\n",
       "\t<tr><td>ENST00000394053.7|ENSG00000065911.12|OTTHUMG00000129814.5|OTTHUMT00000252045.3|MTHFD2-201|MTHFD2|4403|protein_coding|         </td><td>ENSG00000065911.12</td><td>MTHFD2 </td><td>7.186466e-10</td><td>2.023716e-05</td><td>37.96935</td><td>27.775012</td><td>1</td><td>7.452825</td><td>5.555002</td><td>0.0044991653</td><td>5.550503</td><td>0.1151600</td><td>5.550503</td></tr>\n",
       "\t<tr><td>ENST00000418386.2|ENSG00000226979.8|OTTHUMG00000031135.2|OTTHUMT00000076237.2|LTA-213|LTA|1422|protein_coding|                </td><td>ENSG00000226979.8 </td><td>LTA    </td><td>2.686411e-09</td><td>2.023716e-05</td><td>35.39888</td><td>36.640844</td><td>1</td><td>8.616529</td><td>7.328169</td><td>0.0014446939</td><td>7.326724</td><td>0.1239097</td><td>7.326724</td></tr>\n",
       "\t<tr><td>ENST00000470592.5|ENSG00000065911.12|OTTHUMG00000129814.5|OTTHUMT00000351281.1|MTHFD2-205|MTHFD2|1396|nonsense_mediated_decay|</td><td>ENSG00000065911.12</td><td>MTHFD2 </td><td>1.921975e-09</td><td>2.023716e-05</td><td>36.05123</td><td>33.934340</td><td>1</td><td>7.540757</td><td>6.786868</td><td>0.0158822959</td><td>6.770986</td><td>0.1148028</td><td>6.770986</td></tr>\n",
       "\t<tr><td>ENST00000381577.4|ENSG00000120217.14|OTTHUMG00000019503.3|OTTHUMT00000051631.3|CD274-202|CD274|3634|protein_coding|           </td><td>ENSG00000120217.14</td><td>CD274  </td><td>4.567708e-09</td><td>2.465358e-05</td><td>34.36540</td><td>19.408682</td><td>1</td><td>6.982008</td><td>3.881736</td><td>0.0039951980</td><td>3.877741</td><td>0.1198932</td><td>3.877741</td></tr>\n",
       "\t<tr><td>ENST00000262027.10|ENSG00000166986.15|OTTHUMG00000169996.6|OTTHUMT00000407014.2|MARS-201|MARS|2797|protein_coding|            </td><td>ENSG00000166986.15</td><td>MARS   </td><td>6.129983e-09</td><td>3.032860e-05</td><td>33.79297</td><td> 9.498742</td><td>1</td><td>8.645518</td><td>1.899748</td><td>0.0006876057</td><td>1.899061</td><td>0.1245246</td><td>1.899061</td></tr>\n",
       "\t<tr><td>ENST00000319211.5|ENSG00000181104.7|OTTHUMG00000131299.3|OTTHUMT00000254068.3|F2R-201|F2R|3727|protein_coding|                </td><td>ENSG00000181104.7 </td><td>F2R    </td><td>7.326752e-09</td><td>3.107119e-05</td><td>33.44607</td><td>13.568403</td><td>1</td><td>6.693729</td><td>2.713681</td><td>0.0029392962</td><td>2.710741</td><td>0.1252623</td><td>2.710741</td></tr>\n",
       "\t<tr><td>ENST00000391851.8|ENSG00000126457.21|OTTHUMG00000167568.3|OTTHUMT00000395065.1|PRMT1-201|PRMT1|1393|protein_coding|           </td><td>ENSG00000126457.21</td><td>PRMT1  </td><td>6.829824e-09</td><td>3.107119e-05</td><td>33.58268</td><td> 9.693756</td><td>1</td><td>8.217432</td><td>1.938751</td><td>0.0027074952</td><td>1.936044</td><td>0.1175247</td><td>1.936044</td></tr>\n",
       "\t<tr><td>ENST00000376588.4|ENSG00000135069.14|OTTHUMG00000020066.2|OTTHUMT00000052777.2|PSAT1-202|PSAT1|2206|protein_coding|           </td><td>ENSG00000135069.14</td><td>PSAT1  </td><td>1.009746e-08</td><td>3.996643e-05</td><td>32.82240</td><td>33.662497</td><td>1</td><td>7.622784</td><td>6.732499</td><td>0.0028648839</td><td>6.729635</td><td>0.1146161</td><td>6.729635</td></tr>\n",
       "\t<tr><td>ENST00000615230.4|ENSG00000049249.8|OTTHUMG00000001223.3|-|TNFRSF9-204|TNFRSF9|5970|protein_coding|                           </td><td>ENSG00000049249.8 </td><td>TNFRSF9</td><td>1.107128e-08</td><td>4.108207e-05</td><td>32.64343</td><td>47.069169</td><td>1</td><td>7.432979</td><td>9.413834</td><td>0.0062915264</td><td>9.407542</td><td>0.1152632</td><td>9.407542</td></tr>\n",
       "\t<tr><td>ENST00000330263.5|ENSG00000053372.5|OTTHUMG00000002496.4|OTTHUMT00000007075.3|MRTO4-201|MRTO4|2049|protein_coding|            </td><td>ENSG00000053372.5 </td><td>MRTO4  </td><td>1.264519e-08</td><td>4.170875e-05</td><td>32.38511</td><td>10.108499</td><td>1</td><td>7.043976</td><td>2.021700</td><td>0.0018256248</td><td>2.019874</td><td>0.1189917</td><td>2.019874</td></tr>\n",
       "\t<tr><td>ENST00000417626.6|ENSG00000214706.10|OTTHUMG00000156935.3|OTTHUMT00000346660.3|IFRD2-202|IFRD2|2109|protein_coding|           </td><td>ENSG00000214706.10</td><td>IFRD2  </td><td>1.230954e-08</td><td>4.170875e-05</td><td>32.43739</td><td> 7.139407</td><td>1</td><td>7.236493</td><td>1.427881</td><td>0.0014432049</td><td>1.426438</td><td>0.1167366</td><td>1.426438</td></tr>\n",
       "\t<tr><td>ENST00000370508.7|ENSG00000120053.12|OTTHUMG00000018882.4|OTTHUMT00000049794.3|GOT1-201|GOT1|1978|protein_coding|             </td><td>ENSG00000120053.12</td><td>GOT1   </td><td>1.557205e-08</td><td>4.865938e-05</td><td>31.98059</td><td> 8.397652</td><td>1</td><td>7.073138</td><td>1.679530</td><td>0.0016538935</td><td>1.677876</td><td>0.1185974</td><td>1.677876</td></tr>\n",
       "\t<tr><td>ENST00000229134.5|ENSG00000111536.5|OTTHUMG00000169114.2|OTTHUMT00000402302.2|IL26-201|IL26|1066|protein_coding|              </td><td>ENSG00000111536.5 </td><td>IL26   </td><td>1.950090e-08</td><td>4.960842e-05</td><td>31.54363</td><td>34.196647</td><td>1</td><td>6.218162</td><td>6.839329</td><td>0.0087528090</td><td>6.830577</td><td>0.1388108</td><td>6.830577</td></tr>\n",
       "</tbody>\n",
       "</table>\n"
      ],
      "text/latex": [
       "A data.frame: 20 × 14\n",
       "\\begin{tabular}{r|llllllllllllll}\n",
       " target\\_id & ens\\_gene & ext\\_gene & pval & qval & test\\_stat & rss & degrees\\_free & mean\\_obs & var\\_obs & tech\\_var & sigma\\_sq & smooth\\_sigma\\_sq & final\\_sigma\\_sq\\\\\n",
       " <chr> & <chr> & <chr> & <dbl> & <dbl> & <dbl> & <dbl> & <int> & <dbl> & <dbl> & <dbl> & <dbl> & <dbl> & <dbl>\\\\\n",
       "\\hline\n",
       "\t ENST00000253063.4\\textbar{}ENSG00000130766.5\\textbar{}OTTHUMG00000003532.2\\textbar{}OTTHUMT00000009840.2\\textbar{}SESN2-201\\textbar{}SESN2\\textbar{}3462\\textbar{}protein\\_coding\\textbar{}             & ENSG00000130766.5  & SESN2   & 3.109966e-09 & 2.023716e-05 & 35.11375 & 11.377268 & 1 & 7.744285 & 2.275454 & 0.0007887173 & 2.274665 & 0.1145990 & 2.274665\\\\\n",
       "\t ENST00000360110.9\\textbar{}ENSG00000072274.13\\textbar{}OTTHUMG00000155714.3\\textbar{}OTTHUMT00000341346.2\\textbar{}TFRC-201\\textbar{}TFRC\\textbar{}5012\\textbar{}protein\\_coding\\textbar{}              & ENSG00000072274.13 & TFRC    & 1.711042e-09 & 2.023716e-05 & 36.27777 & 19.051851 & 1 & 8.165266 & 3.810370 & 0.0010891066 & 3.809281 & 0.1169632 & 3.809281\\\\\n",
       "\t ENST00000374517.6\\textbar{}ENSG00000136810.13\\textbar{}OTTHUMG00000020480.2\\textbar{}OTTHUMT00000053614.2\\textbar{}TXN-202\\textbar{}TXN\\textbar{}737\\textbar{}protein\\_coding\\textbar{}                 & ENSG00000136810.13 & TXN     & 2.928016e-09 & 2.023716e-05 & 35.23116 & 13.393763 & 1 & 7.809075 & 2.678753 & 0.0008575954 & 2.677895 & 0.1147166 & 2.677895\\\\\n",
       "\t ENST00000376509.4\\textbar{}ENSG00000102096.9\\textbar{}OTTHUMG00000024132.2\\textbar{}OTTHUMT00000060805.1\\textbar{}PIM2-201\\textbar{}PIM2\\textbar{}2075\\textbar{}protein\\_coding\\textbar{}               & ENSG00000102096.9  & PIM2    & 2.092917e-09 & 2.023716e-05 & 35.88521 & 14.101121 & 1 & 8.751628 & 2.820224 & 0.0003598689 & 2.819864 & 0.1269611 & 2.819864\\\\\n",
       "\t ENST00000379959.7\\textbar{}ENSG00000134460.17\\textbar{}OTTHUMG00000017616.4\\textbar{}OTTHUMT00000046627.1\\textbar{}IL2RA-203\\textbar{}IL2RA\\textbar{}3176\\textbar{}protein\\_coding\\textbar{}            & ENSG00000134460.17 & IL2RA   & 3.408594e-09 & 2.023716e-05 & 34.93522 & 49.495861 & 1 & 8.245347 & 9.899172 & 0.0039507450 & 9.895222 & 0.1178502 & 9.895222\\\\\n",
       "\t ENST00000380956.9\\textbar{}ENSG00000137265.15\\textbar{}OTTHUMG00000016294.5\\textbar{}OTTHUMT00000043638.3\\textbar{}IRF4-201\\textbar{}IRF4\\textbar{}5314\\textbar{}protein\\_coding\\textbar{}              & ENSG00000137265.15 & IRF4    & 2.933747e-09 & 2.023716e-05 & 35.22735 & 42.622878 & 1 & 7.696539 & 8.524576 & 0.0029354681 & 8.521640 & 0.1145687 & 8.521640\\\\\n",
       "\t ENST00000389266.8\\textbar{}ENSG00000106105.14\\textbar{}OTTHUMG00000152769.2\\textbar{}OTTHUMT00000327735.2\\textbar{}GARS-201\\textbar{}GARS\\textbar{}2437\\textbar{}protein\\_coding\\textbar{}              & ENSG00000106105.14 & GARS    & 2.241307e-09 & 2.023716e-05 & 35.75175 & 15.205941 & 1 & 8.880037 & 3.041188 & 0.0003338515 & 3.040854 & 0.1303138 & 3.040854\\\\\n",
       "\t ENST00000394053.7\\textbar{}ENSG00000065911.12\\textbar{}OTTHUMG00000129814.5\\textbar{}OTTHUMT00000252045.3\\textbar{}MTHFD2-201\\textbar{}MTHFD2\\textbar{}4403\\textbar{}protein\\_coding\\textbar{}          & ENSG00000065911.12 & MTHFD2  & 7.186466e-10 & 2.023716e-05 & 37.96935 & 27.775012 & 1 & 7.452825 & 5.555002 & 0.0044991653 & 5.550503 & 0.1151600 & 5.550503\\\\\n",
       "\t ENST00000418386.2\\textbar{}ENSG00000226979.8\\textbar{}OTTHUMG00000031135.2\\textbar{}OTTHUMT00000076237.2\\textbar{}LTA-213\\textbar{}LTA\\textbar{}1422\\textbar{}protein\\_coding\\textbar{}                 & ENSG00000226979.8  & LTA     & 2.686411e-09 & 2.023716e-05 & 35.39888 & 36.640844 & 1 & 8.616529 & 7.328169 & 0.0014446939 & 7.326724 & 0.1239097 & 7.326724\\\\\n",
       "\t ENST00000470592.5\\textbar{}ENSG00000065911.12\\textbar{}OTTHUMG00000129814.5\\textbar{}OTTHUMT00000351281.1\\textbar{}MTHFD2-205\\textbar{}MTHFD2\\textbar{}1396\\textbar{}nonsense\\_mediated\\_decay\\textbar{} & ENSG00000065911.12 & MTHFD2  & 1.921975e-09 & 2.023716e-05 & 36.05123 & 33.934340 & 1 & 7.540757 & 6.786868 & 0.0158822959 & 6.770986 & 0.1148028 & 6.770986\\\\\n",
       "\t ENST00000381577.4\\textbar{}ENSG00000120217.14\\textbar{}OTTHUMG00000019503.3\\textbar{}OTTHUMT00000051631.3\\textbar{}CD274-202\\textbar{}CD274\\textbar{}3634\\textbar{}protein\\_coding\\textbar{}            & ENSG00000120217.14 & CD274   & 4.567708e-09 & 2.465358e-05 & 34.36540 & 19.408682 & 1 & 6.982008 & 3.881736 & 0.0039951980 & 3.877741 & 0.1198932 & 3.877741\\\\\n",
       "\t ENST00000262027.10\\textbar{}ENSG00000166986.15\\textbar{}OTTHUMG00000169996.6\\textbar{}OTTHUMT00000407014.2\\textbar{}MARS-201\\textbar{}MARS\\textbar{}2797\\textbar{}protein\\_coding\\textbar{}             & ENSG00000166986.15 & MARS    & 6.129983e-09 & 3.032860e-05 & 33.79297 &  9.498742 & 1 & 8.645518 & 1.899748 & 0.0006876057 & 1.899061 & 0.1245246 & 1.899061\\\\\n",
       "\t ENST00000319211.5\\textbar{}ENSG00000181104.7\\textbar{}OTTHUMG00000131299.3\\textbar{}OTTHUMT00000254068.3\\textbar{}F2R-201\\textbar{}F2R\\textbar{}3727\\textbar{}protein\\_coding\\textbar{}                 & ENSG00000181104.7  & F2R     & 7.326752e-09 & 3.107119e-05 & 33.44607 & 13.568403 & 1 & 6.693729 & 2.713681 & 0.0029392962 & 2.710741 & 0.1252623 & 2.710741\\\\\n",
       "\t ENST00000391851.8\\textbar{}ENSG00000126457.21\\textbar{}OTTHUMG00000167568.3\\textbar{}OTTHUMT00000395065.1\\textbar{}PRMT1-201\\textbar{}PRMT1\\textbar{}1393\\textbar{}protein\\_coding\\textbar{}            & ENSG00000126457.21 & PRMT1   & 6.829824e-09 & 3.107119e-05 & 33.58268 &  9.693756 & 1 & 8.217432 & 1.938751 & 0.0027074952 & 1.936044 & 0.1175247 & 1.936044\\\\\n",
       "\t ENST00000376588.4\\textbar{}ENSG00000135069.14\\textbar{}OTTHUMG00000020066.2\\textbar{}OTTHUMT00000052777.2\\textbar{}PSAT1-202\\textbar{}PSAT1\\textbar{}2206\\textbar{}protein\\_coding\\textbar{}            & ENSG00000135069.14 & PSAT1   & 1.009746e-08 & 3.996643e-05 & 32.82240 & 33.662497 & 1 & 7.622784 & 6.732499 & 0.0028648839 & 6.729635 & 0.1146161 & 6.729635\\\\\n",
       "\t ENST00000615230.4\\textbar{}ENSG00000049249.8\\textbar{}OTTHUMG00000001223.3\\textbar{}-\\textbar{}TNFRSF9-204\\textbar{}TNFRSF9\\textbar{}5970\\textbar{}protein\\_coding\\textbar{}                            & ENSG00000049249.8  & TNFRSF9 & 1.107128e-08 & 4.108207e-05 & 32.64343 & 47.069169 & 1 & 7.432979 & 9.413834 & 0.0062915264 & 9.407542 & 0.1152632 & 9.407542\\\\\n",
       "\t ENST00000330263.5\\textbar{}ENSG00000053372.5\\textbar{}OTTHUMG00000002496.4\\textbar{}OTTHUMT00000007075.3\\textbar{}MRTO4-201\\textbar{}MRTO4\\textbar{}2049\\textbar{}protein\\_coding\\textbar{}             & ENSG00000053372.5  & MRTO4   & 1.264519e-08 & 4.170875e-05 & 32.38511 & 10.108499 & 1 & 7.043976 & 2.021700 & 0.0018256248 & 2.019874 & 0.1189917 & 2.019874\\\\\n",
       "\t ENST00000417626.6\\textbar{}ENSG00000214706.10\\textbar{}OTTHUMG00000156935.3\\textbar{}OTTHUMT00000346660.3\\textbar{}IFRD2-202\\textbar{}IFRD2\\textbar{}2109\\textbar{}protein\\_coding\\textbar{}            & ENSG00000214706.10 & IFRD2   & 1.230954e-08 & 4.170875e-05 & 32.43739 &  7.139407 & 1 & 7.236493 & 1.427881 & 0.0014432049 & 1.426438 & 0.1167366 & 1.426438\\\\\n",
       "\t ENST00000370508.7\\textbar{}ENSG00000120053.12\\textbar{}OTTHUMG00000018882.4\\textbar{}OTTHUMT00000049794.3\\textbar{}GOT1-201\\textbar{}GOT1\\textbar{}1978\\textbar{}protein\\_coding\\textbar{}              & ENSG00000120053.12 & GOT1    & 1.557205e-08 & 4.865938e-05 & 31.98059 &  8.397652 & 1 & 7.073138 & 1.679530 & 0.0016538935 & 1.677876 & 0.1185974 & 1.677876\\\\\n",
       "\t ENST00000229134.5\\textbar{}ENSG00000111536.5\\textbar{}OTTHUMG00000169114.2\\textbar{}OTTHUMT00000402302.2\\textbar{}IL26-201\\textbar{}IL26\\textbar{}1066\\textbar{}protein\\_coding\\textbar{}               & ENSG00000111536.5  & IL26    & 1.950090e-08 & 4.960842e-05 & 31.54363 & 34.196647 & 1 & 6.218162 & 6.839329 & 0.0087528090 & 6.830577 & 0.1388108 & 6.830577\\\\\n",
       "\\end{tabular}\n"
      ],
      "text/markdown": [
       "\n",
       "A data.frame: 20 × 14\n",
       "\n",
       "| target_id &lt;chr&gt; | ens_gene &lt;chr&gt; | ext_gene &lt;chr&gt; | pval &lt;dbl&gt; | qval &lt;dbl&gt; | test_stat &lt;dbl&gt; | rss &lt;dbl&gt; | degrees_free &lt;int&gt; | mean_obs &lt;dbl&gt; | var_obs &lt;dbl&gt; | tech_var &lt;dbl&gt; | sigma_sq &lt;dbl&gt; | smooth_sigma_sq &lt;dbl&gt; | final_sigma_sq &lt;dbl&gt; |\n",
       "|---|---|---|---|---|---|---|---|---|---|---|---|---|---|\n",
       "| ENST00000253063.4|ENSG00000130766.5|OTTHUMG00000003532.2|OTTHUMT00000009840.2|SESN2-201|SESN2|3462|protein_coding|             | ENSG00000130766.5  | SESN2   | 3.109966e-09 | 2.023716e-05 | 35.11375 | 11.377268 | 1 | 7.744285 | 2.275454 | 0.0007887173 | 2.274665 | 0.1145990 | 2.274665 |\n",
       "| ENST00000360110.9|ENSG00000072274.13|OTTHUMG00000155714.3|OTTHUMT00000341346.2|TFRC-201|TFRC|5012|protein_coding|              | ENSG00000072274.13 | TFRC    | 1.711042e-09 | 2.023716e-05 | 36.27777 | 19.051851 | 1 | 8.165266 | 3.810370 | 0.0010891066 | 3.809281 | 0.1169632 | 3.809281 |\n",
       "| ENST00000374517.6|ENSG00000136810.13|OTTHUMG00000020480.2|OTTHUMT00000053614.2|TXN-202|TXN|737|protein_coding|                 | ENSG00000136810.13 | TXN     | 2.928016e-09 | 2.023716e-05 | 35.23116 | 13.393763 | 1 | 7.809075 | 2.678753 | 0.0008575954 | 2.677895 | 0.1147166 | 2.677895 |\n",
       "| ENST00000376509.4|ENSG00000102096.9|OTTHUMG00000024132.2|OTTHUMT00000060805.1|PIM2-201|PIM2|2075|protein_coding|               | ENSG00000102096.9  | PIM2    | 2.092917e-09 | 2.023716e-05 | 35.88521 | 14.101121 | 1 | 8.751628 | 2.820224 | 0.0003598689 | 2.819864 | 0.1269611 | 2.819864 |\n",
       "| ENST00000379959.7|ENSG00000134460.17|OTTHUMG00000017616.4|OTTHUMT00000046627.1|IL2RA-203|IL2RA|3176|protein_coding|            | ENSG00000134460.17 | IL2RA   | 3.408594e-09 | 2.023716e-05 | 34.93522 | 49.495861 | 1 | 8.245347 | 9.899172 | 0.0039507450 | 9.895222 | 0.1178502 | 9.895222 |\n",
       "| ENST00000380956.9|ENSG00000137265.15|OTTHUMG00000016294.5|OTTHUMT00000043638.3|IRF4-201|IRF4|5314|protein_coding|              | ENSG00000137265.15 | IRF4    | 2.933747e-09 | 2.023716e-05 | 35.22735 | 42.622878 | 1 | 7.696539 | 8.524576 | 0.0029354681 | 8.521640 | 0.1145687 | 8.521640 |\n",
       "| ENST00000389266.8|ENSG00000106105.14|OTTHUMG00000152769.2|OTTHUMT00000327735.2|GARS-201|GARS|2437|protein_coding|              | ENSG00000106105.14 | GARS    | 2.241307e-09 | 2.023716e-05 | 35.75175 | 15.205941 | 1 | 8.880037 | 3.041188 | 0.0003338515 | 3.040854 | 0.1303138 | 3.040854 |\n",
       "| ENST00000394053.7|ENSG00000065911.12|OTTHUMG00000129814.5|OTTHUMT00000252045.3|MTHFD2-201|MTHFD2|4403|protein_coding|          | ENSG00000065911.12 | MTHFD2  | 7.186466e-10 | 2.023716e-05 | 37.96935 | 27.775012 | 1 | 7.452825 | 5.555002 | 0.0044991653 | 5.550503 | 0.1151600 | 5.550503 |\n",
       "| ENST00000418386.2|ENSG00000226979.8|OTTHUMG00000031135.2|OTTHUMT00000076237.2|LTA-213|LTA|1422|protein_coding|                 | ENSG00000226979.8  | LTA     | 2.686411e-09 | 2.023716e-05 | 35.39888 | 36.640844 | 1 | 8.616529 | 7.328169 | 0.0014446939 | 7.326724 | 0.1239097 | 7.326724 |\n",
       "| ENST00000470592.5|ENSG00000065911.12|OTTHUMG00000129814.5|OTTHUMT00000351281.1|MTHFD2-205|MTHFD2|1396|nonsense_mediated_decay| | ENSG00000065911.12 | MTHFD2  | 1.921975e-09 | 2.023716e-05 | 36.05123 | 33.934340 | 1 | 7.540757 | 6.786868 | 0.0158822959 | 6.770986 | 0.1148028 | 6.770986 |\n",
       "| ENST00000381577.4|ENSG00000120217.14|OTTHUMG00000019503.3|OTTHUMT00000051631.3|CD274-202|CD274|3634|protein_coding|            | ENSG00000120217.14 | CD274   | 4.567708e-09 | 2.465358e-05 | 34.36540 | 19.408682 | 1 | 6.982008 | 3.881736 | 0.0039951980 | 3.877741 | 0.1198932 | 3.877741 |\n",
       "| ENST00000262027.10|ENSG00000166986.15|OTTHUMG00000169996.6|OTTHUMT00000407014.2|MARS-201|MARS|2797|protein_coding|             | ENSG00000166986.15 | MARS    | 6.129983e-09 | 3.032860e-05 | 33.79297 |  9.498742 | 1 | 8.645518 | 1.899748 | 0.0006876057 | 1.899061 | 0.1245246 | 1.899061 |\n",
       "| ENST00000319211.5|ENSG00000181104.7|OTTHUMG00000131299.3|OTTHUMT00000254068.3|F2R-201|F2R|3727|protein_coding|                 | ENSG00000181104.7  | F2R     | 7.326752e-09 | 3.107119e-05 | 33.44607 | 13.568403 | 1 | 6.693729 | 2.713681 | 0.0029392962 | 2.710741 | 0.1252623 | 2.710741 |\n",
       "| ENST00000391851.8|ENSG00000126457.21|OTTHUMG00000167568.3|OTTHUMT00000395065.1|PRMT1-201|PRMT1|1393|protein_coding|            | ENSG00000126457.21 | PRMT1   | 6.829824e-09 | 3.107119e-05 | 33.58268 |  9.693756 | 1 | 8.217432 | 1.938751 | 0.0027074952 | 1.936044 | 0.1175247 | 1.936044 |\n",
       "| ENST00000376588.4|ENSG00000135069.14|OTTHUMG00000020066.2|OTTHUMT00000052777.2|PSAT1-202|PSAT1|2206|protein_coding|            | ENSG00000135069.14 | PSAT1   | 1.009746e-08 | 3.996643e-05 | 32.82240 | 33.662497 | 1 | 7.622784 | 6.732499 | 0.0028648839 | 6.729635 | 0.1146161 | 6.729635 |\n",
       "| ENST00000615230.4|ENSG00000049249.8|OTTHUMG00000001223.3|-|TNFRSF9-204|TNFRSF9|5970|protein_coding|                            | ENSG00000049249.8  | TNFRSF9 | 1.107128e-08 | 4.108207e-05 | 32.64343 | 47.069169 | 1 | 7.432979 | 9.413834 | 0.0062915264 | 9.407542 | 0.1152632 | 9.407542 |\n",
       "| ENST00000330263.5|ENSG00000053372.5|OTTHUMG00000002496.4|OTTHUMT00000007075.3|MRTO4-201|MRTO4|2049|protein_coding|             | ENSG00000053372.5  | MRTO4   | 1.264519e-08 | 4.170875e-05 | 32.38511 | 10.108499 | 1 | 7.043976 | 2.021700 | 0.0018256248 | 2.019874 | 0.1189917 | 2.019874 |\n",
       "| ENST00000417626.6|ENSG00000214706.10|OTTHUMG00000156935.3|OTTHUMT00000346660.3|IFRD2-202|IFRD2|2109|protein_coding|            | ENSG00000214706.10 | IFRD2   | 1.230954e-08 | 4.170875e-05 | 32.43739 |  7.139407 | 1 | 7.236493 | 1.427881 | 0.0014432049 | 1.426438 | 0.1167366 | 1.426438 |\n",
       "| ENST00000370508.7|ENSG00000120053.12|OTTHUMG00000018882.4|OTTHUMT00000049794.3|GOT1-201|GOT1|1978|protein_coding|              | ENSG00000120053.12 | GOT1    | 1.557205e-08 | 4.865938e-05 | 31.98059 |  8.397652 | 1 | 7.073138 | 1.679530 | 0.0016538935 | 1.677876 | 0.1185974 | 1.677876 |\n",
       "| ENST00000229134.5|ENSG00000111536.5|OTTHUMG00000169114.2|OTTHUMT00000402302.2|IL26-201|IL26|1066|protein_coding|               | ENSG00000111536.5  | IL26    | 1.950090e-08 | 4.960842e-05 | 31.54363 | 34.196647 | 1 | 6.218162 | 6.839329 | 0.0087528090 | 6.830577 | 0.1388108 | 6.830577 |\n",
       "\n"
      ],
      "text/plain": [
       "   target_id                                                                                                                     \n",
       "1  ENST00000253063.4|ENSG00000130766.5|OTTHUMG00000003532.2|OTTHUMT00000009840.2|SESN2-201|SESN2|3462|protein_coding|            \n",
       "2  ENST00000360110.9|ENSG00000072274.13|OTTHUMG00000155714.3|OTTHUMT00000341346.2|TFRC-201|TFRC|5012|protein_coding|             \n",
       "3  ENST00000374517.6|ENSG00000136810.13|OTTHUMG00000020480.2|OTTHUMT00000053614.2|TXN-202|TXN|737|protein_coding|                \n",
       "4  ENST00000376509.4|ENSG00000102096.9|OTTHUMG00000024132.2|OTTHUMT00000060805.1|PIM2-201|PIM2|2075|protein_coding|              \n",
       "5  ENST00000379959.7|ENSG00000134460.17|OTTHUMG00000017616.4|OTTHUMT00000046627.1|IL2RA-203|IL2RA|3176|protein_coding|           \n",
       "6  ENST00000380956.9|ENSG00000137265.15|OTTHUMG00000016294.5|OTTHUMT00000043638.3|IRF4-201|IRF4|5314|protein_coding|             \n",
       "7  ENST00000389266.8|ENSG00000106105.14|OTTHUMG00000152769.2|OTTHUMT00000327735.2|GARS-201|GARS|2437|protein_coding|             \n",
       "8  ENST00000394053.7|ENSG00000065911.12|OTTHUMG00000129814.5|OTTHUMT00000252045.3|MTHFD2-201|MTHFD2|4403|protein_coding|         \n",
       "9  ENST00000418386.2|ENSG00000226979.8|OTTHUMG00000031135.2|OTTHUMT00000076237.2|LTA-213|LTA|1422|protein_coding|                \n",
       "10 ENST00000470592.5|ENSG00000065911.12|OTTHUMG00000129814.5|OTTHUMT00000351281.1|MTHFD2-205|MTHFD2|1396|nonsense_mediated_decay|\n",
       "11 ENST00000381577.4|ENSG00000120217.14|OTTHUMG00000019503.3|OTTHUMT00000051631.3|CD274-202|CD274|3634|protein_coding|           \n",
       "12 ENST00000262027.10|ENSG00000166986.15|OTTHUMG00000169996.6|OTTHUMT00000407014.2|MARS-201|MARS|2797|protein_coding|            \n",
       "13 ENST00000319211.5|ENSG00000181104.7|OTTHUMG00000131299.3|OTTHUMT00000254068.3|F2R-201|F2R|3727|protein_coding|                \n",
       "14 ENST00000391851.8|ENSG00000126457.21|OTTHUMG00000167568.3|OTTHUMT00000395065.1|PRMT1-201|PRMT1|1393|protein_coding|           \n",
       "15 ENST00000376588.4|ENSG00000135069.14|OTTHUMG00000020066.2|OTTHUMT00000052777.2|PSAT1-202|PSAT1|2206|protein_coding|           \n",
       "16 ENST00000615230.4|ENSG00000049249.8|OTTHUMG00000001223.3|-|TNFRSF9-204|TNFRSF9|5970|protein_coding|                           \n",
       "17 ENST00000330263.5|ENSG00000053372.5|OTTHUMG00000002496.4|OTTHUMT00000007075.3|MRTO4-201|MRTO4|2049|protein_coding|            \n",
       "18 ENST00000417626.6|ENSG00000214706.10|OTTHUMG00000156935.3|OTTHUMT00000346660.3|IFRD2-202|IFRD2|2109|protein_coding|           \n",
       "19 ENST00000370508.7|ENSG00000120053.12|OTTHUMG00000018882.4|OTTHUMT00000049794.3|GOT1-201|GOT1|1978|protein_coding|             \n",
       "20 ENST00000229134.5|ENSG00000111536.5|OTTHUMG00000169114.2|OTTHUMT00000402302.2|IL26-201|IL26|1066|protein_coding|              \n",
       "   ens_gene           ext_gene pval         qval         test_stat rss      \n",
       "1  ENSG00000130766.5  SESN2    3.109966e-09 2.023716e-05 35.11375  11.377268\n",
       "2  ENSG00000072274.13 TFRC     1.711042e-09 2.023716e-05 36.27777  19.051851\n",
       "3  ENSG00000136810.13 TXN      2.928016e-09 2.023716e-05 35.23116  13.393763\n",
       "4  ENSG00000102096.9  PIM2     2.092917e-09 2.023716e-05 35.88521  14.101121\n",
       "5  ENSG00000134460.17 IL2RA    3.408594e-09 2.023716e-05 34.93522  49.495861\n",
       "6  ENSG00000137265.15 IRF4     2.933747e-09 2.023716e-05 35.22735  42.622878\n",
       "7  ENSG00000106105.14 GARS     2.241307e-09 2.023716e-05 35.75175  15.205941\n",
       "8  ENSG00000065911.12 MTHFD2   7.186466e-10 2.023716e-05 37.96935  27.775012\n",
       "9  ENSG00000226979.8  LTA      2.686411e-09 2.023716e-05 35.39888  36.640844\n",
       "10 ENSG00000065911.12 MTHFD2   1.921975e-09 2.023716e-05 36.05123  33.934340\n",
       "11 ENSG00000120217.14 CD274    4.567708e-09 2.465358e-05 34.36540  19.408682\n",
       "12 ENSG00000166986.15 MARS     6.129983e-09 3.032860e-05 33.79297   9.498742\n",
       "13 ENSG00000181104.7  F2R      7.326752e-09 3.107119e-05 33.44607  13.568403\n",
       "14 ENSG00000126457.21 PRMT1    6.829824e-09 3.107119e-05 33.58268   9.693756\n",
       "15 ENSG00000135069.14 PSAT1    1.009746e-08 3.996643e-05 32.82240  33.662497\n",
       "16 ENSG00000049249.8  TNFRSF9  1.107128e-08 4.108207e-05 32.64343  47.069169\n",
       "17 ENSG00000053372.5  MRTO4    1.264519e-08 4.170875e-05 32.38511  10.108499\n",
       "18 ENSG00000214706.10 IFRD2    1.230954e-08 4.170875e-05 32.43739   7.139407\n",
       "19 ENSG00000120053.12 GOT1     1.557205e-08 4.865938e-05 31.98059   8.397652\n",
       "20 ENSG00000111536.5  IL26     1.950090e-08 4.960842e-05 31.54363  34.196647\n",
       "   degrees_free mean_obs var_obs  tech_var     sigma_sq smooth_sigma_sq\n",
       "1  1            7.744285 2.275454 0.0007887173 2.274665 0.1145990      \n",
       "2  1            8.165266 3.810370 0.0010891066 3.809281 0.1169632      \n",
       "3  1            7.809075 2.678753 0.0008575954 2.677895 0.1147166      \n",
       "4  1            8.751628 2.820224 0.0003598689 2.819864 0.1269611      \n",
       "5  1            8.245347 9.899172 0.0039507450 9.895222 0.1178502      \n",
       "6  1            7.696539 8.524576 0.0029354681 8.521640 0.1145687      \n",
       "7  1            8.880037 3.041188 0.0003338515 3.040854 0.1303138      \n",
       "8  1            7.452825 5.555002 0.0044991653 5.550503 0.1151600      \n",
       "9  1            8.616529 7.328169 0.0014446939 7.326724 0.1239097      \n",
       "10 1            7.540757 6.786868 0.0158822959 6.770986 0.1148028      \n",
       "11 1            6.982008 3.881736 0.0039951980 3.877741 0.1198932      \n",
       "12 1            8.645518 1.899748 0.0006876057 1.899061 0.1245246      \n",
       "13 1            6.693729 2.713681 0.0029392962 2.710741 0.1252623      \n",
       "14 1            8.217432 1.938751 0.0027074952 1.936044 0.1175247      \n",
       "15 1            7.622784 6.732499 0.0028648839 6.729635 0.1146161      \n",
       "16 1            7.432979 9.413834 0.0062915264 9.407542 0.1152632      \n",
       "17 1            7.043976 2.021700 0.0018256248 2.019874 0.1189917      \n",
       "18 1            7.236493 1.427881 0.0014432049 1.426438 0.1167366      \n",
       "19 1            7.073138 1.679530 0.0016538935 1.677876 0.1185974      \n",
       "20 1            6.218162 6.839329 0.0087528090 6.830577 0.1388108      \n",
       "   final_sigma_sq\n",
       "1  2.274665      \n",
       "2  3.809281      \n",
       "3  2.677895      \n",
       "4  2.819864      \n",
       "5  9.895222      \n",
       "6  8.521640      \n",
       "7  3.040854      \n",
       "8  5.550503      \n",
       "9  7.326724      \n",
       "10 6.770986      \n",
       "11 3.877741      \n",
       "12 1.899061      \n",
       "13 2.710741      \n",
       "14 1.936044      \n",
       "15 6.729635      \n",
       "16 9.407542      \n",
       "17 2.019874      \n",
       "18 1.426438      \n",
       "19 1.677876      \n",
       "20 6.830577      "
      ]
     },
     "metadata": {},
     "output_type": "display_data"
    }
   ],
   "source": [
    "sleuth_table_tx <- sleuth_results(so, 'reduced:full', 'lrt', show_all = FALSE, pval_aggregate = FALSE)\n",
    "sleuth_table_tx <- dplyr::filter(sleuth_table_tx, qval <= 0.05)\n",
    "head(sleuth_table_tx, 20)"
   ]
  },
  {
   "cell_type": "markdown",
   "metadata": {},
   "source": [
    "The transcript pvals listed in sleuth_table_tx were the ones aggregated to obtain the gene pvals in sleuth_table_gene. In fact, the most differential transcript is one from the gene Fam107a, which is also the most differential gene.\n",
    "\n",
    "## Visualizing the results\n",
    "One can visualize the results within our R shiny app by calling:"
   ]
  },
  {
   "cell_type": "code",
   "execution_count": null,
   "metadata": {},
   "outputs": [
    {
     "name": "stderr",
     "output_type": "stream",
     "text": [
      "Loading required package: shiny\n",
      "\n",
      "Listening on http://127.0.0.1:42427\n",
      "Warning message:\n",
      "“Error in qchisq: Argument non numérique pour une fonction mathématique”Warning message:\n",
      "“Error in as.data.frame.default: cannot coerce class ‘c(\"quosure\", \"formula\")’ to a data.frame”Warning message:\n",
      "“Error in : objet 'sigma_sq' introuvable”"
     ]
    }
   ],
   "source": [
    "sleuth_live(so)"
   ]
  },
  {
   "cell_type": "markdown",
   "metadata": {},
   "source": [
    "This will open a new browser that runs the R shiny app. One can visualize the transcript dynamics that resulted in these gene differential results under ‘analysis’ -> ‘gene view.’ Enterring the Ensembl gene name and selecting ‘ens_gene’ from the ‘genes from’ dropdown will display each transcript corresponding to that gene. ‘analyses’ -> ‘test table’ will provide the same results as sleuth_table. As we previously mentioned, because our gene results are based on the transcript results, there is no need to visualize gene abundances separately. Instead, one can use the transcript abundances as the evidence for the gene level differential expression."
   ]
  }
 ],
 "metadata": {
  "kernelspec": {
   "display_name": "R",
   "language": "R",
   "name": "ir"
  },
  "language_info": {
   "codemirror_mode": "r",
   "file_extension": ".r",
   "mimetype": "text/x-r-source",
   "name": "R",
   "pygments_lexer": "r",
   "version": "3.5.1"
  }
 },
 "nbformat": 4,
 "nbformat_minor": 2
}
